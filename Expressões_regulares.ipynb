{
  "nbformat": 4,
  "nbformat_minor": 0,
  "metadata": {
    "colab": {
      "name": "Expressões_regulares.ipynb",
      "provenance": [],
      "collapsed_sections": [],
      "authorship_tag": "ABX9TyOuiAfKpCIGltQ7NS1O5nhN",
      "include_colab_link": true
    },
    "kernelspec": {
      "name": "python3",
      "display_name": "Python 3"
    }
  },
  "cells": [
    {
      "cell_type": "markdown",
      "metadata": {
        "id": "view-in-github",
        "colab_type": "text"
      },
      "source": [
        "<a href=\"https://colab.research.google.com/github/AlanDiego-py/Projetos-base/blob/main/Express%C3%B5es_regulares.ipynb\" target=\"_parent\"><img src=\"https://colab.research.google.com/assets/colab-badge.svg\" alt=\"Open In Colab\"/></a>"
      ]
    },
    {
      "cell_type": "code",
      "metadata": {
        "id": "0ceTbURLdi9f"
      },
      "source": [
        "import re"
      ],
      "execution_count": null,
      "outputs": []
    },
    {
      "cell_type": "code",
      "metadata": {
        "id": "tStNiC9ddr0I",
        "outputId": "6d164f74-32ba-499e-ee21-d7d8b47d77c6",
        "colab": {
          "base_uri": "https://localhost:8080/",
          "height": 51
        }
      },
      "source": [
        "nome = \"Esse texto é muito legal, texto eficiente, texto legal, texto inocerente\"\n",
        "print(re.search(r'texto', nome))\n",
        "print(re.findall('texto', nome))"
      ],
      "execution_count": null,
      "outputs": [
        {
          "output_type": "stream",
          "text": [
            "<_sre.SRE_Match object; span=(5, 10), match='texto'>\n",
            "['texto', 'texto', 'texto', 'texto']\n"
          ],
          "name": "stdout"
        }
      ]
    },
    {
      "cell_type": "code",
      "metadata": {
        "id": "KZY3OxSueG04",
        "outputId": "3d99d422-7eca-4c5b-869c-e0e057e1a4b8",
        "colab": {
          "base_uri": "https://localhost:8080/",
          "height": 51
        }
      },
      "source": [
        "import re\n",
        "\n",
        "nome=input(\"Qual o seu nome completo?\") \n",
        "\n",
        "if(nome.count(\"alan\")):\n",
        "    print(\"A string tem o nome alan\")\n",
        "else:\n",
        "    print(\"A string não tem o nome alan\")"
      ],
      "execution_count": null,
      "outputs": [
        {
          "output_type": "stream",
          "text": [
            "Qual o seu nome completo?diego alan\n",
            "A string tem o nome alan\n"
          ],
          "name": "stdout"
        }
      ]
    },
    {
      "cell_type": "code",
      "metadata": {
        "id": "NiF9389kfKjq"
      },
      "source": [
        "\n",
        "string = 'Este é um teste de expressões teste regulares.'\n",
        "print(re.search(r'teste', string))\n",
        "print(re.findall(r'teste', string))\n",
        "print(re.sub(r'teste', 'ABCD', string))\n",
        "\n",
        "regexp = re.compile(r'teste')\n",
        "print(regexp.search(string))\n",
        "print(regexp.findall(string))\n",
        "\n",
        "print(regexp.sub('DEF', string))"
      ],
      "execution_count": null,
      "outputs": []
    }
  ]
}
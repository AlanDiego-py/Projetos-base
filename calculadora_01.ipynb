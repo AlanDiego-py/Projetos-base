{
  "nbformat": 4,
  "nbformat_minor": 0,
  "metadata": {
    "colab": {
      "name": "calculadora_01.ipynb",
      "provenance": [],
      "authorship_tag": "ABX9TyMF8V6b/aXyY4nWA/WX9QSC",
      "include_colab_link": true
    },
    "kernelspec": {
      "name": "python3",
      "display_name": "Python 3"
    }
  },
  "cells": [
    {
      "cell_type": "markdown",
      "metadata": {
        "id": "view-in-github",
        "colab_type": "text"
      },
      "source": [
        "<a href=\"https://colab.research.google.com/github/AlanDiego-py/Projetos-base/blob/main/calculadora_01.ipynb\" target=\"_parent\"><img src=\"https://colab.research.google.com/assets/colab-badge.svg\" alt=\"Open In Colab\"/></a>"
      ]
    },
    {
      "cell_type": "code",
      "metadata": {
        "id": "N0UlBZ1jujC7"
      },
      "source": [
        "#calculadora Básica!\n",
        "print(\"---CALCULADORA V.0.1 ---\")\n",
        "sair = False\n",
        "while sair == False:   #Laço de repetição while\n",
        "  num1 = int(input(\"Digite seu número: \")) #função input para receber dados\n",
        "  operador = input(\"Digite seu operador(+/*): \")\n",
        "  num2 = int(input(\"Digite o número 2: \"))\n",
        "\n",
        "  if operador == \"+\":        #Operador condicional\n",
        "    operação = num1 + num2\n",
        "  if operador == \"-\":\n",
        "    operação = num1 - num2\n",
        "  if operador == \"*\":\n",
        "    operação = num1 * num2\n",
        "  if operador == \"/\":  \n",
        "    operação = num1 / num2\n",
        "\n",
        "  print(\"Resultado: \")\n",
        "  print(operação)\n",
        "  teste = input(\"Deseja sair: (n/s)\") #Bloco de código para retornar as funcionalidades\n",
        "  if teste == \"s\":\n",
        "    sair = True\n",
        "\n",
        "#Existem outras formas de fazer esse código;\n",
        "#Utilizando metódos mais simples;"
      ],
      "execution_count": null,
      "outputs": []
    }
  ]
}